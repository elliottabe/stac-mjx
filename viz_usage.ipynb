{
 "cells": [
  {
   "cell_type": "markdown",
   "metadata": {},
   "source": [
    "### Render stac outputs with mujoco"
   ]
  },
  {
   "cell_type": "code",
   "execution_count": 4,
   "metadata": {
    "tags": []
   },
   "outputs": [
    {
     "name": "stdout",
     "output_type": "stream",
     "text": [
      "env: MUJOCO_GL=osmesa\n",
      "env: PYOPENGL_PLATFORM=osmesa\n"
     ]
    }
   ],
   "source": [
    "# Necassary for headless rendering\n",
    "%env MUJOCO_GL=osmesa \n",
    "%env PYOPENGL_PLATFORM=osmesa\n",
    "\n",
    "# Find modules\n",
    "import sys\n",
    "sys.path.append(\"./core\")\n",
    "\n",
    "#!pip install mediapy\n",
    "import mediapy as media\n",
    "\n",
    "from viz import mujoco_viz, mujoco_pair_viz, overlay_viz\n",
    "import utils\n",
    "from omegaconf import OmegaConf\n",
    "import hydra\n",
    "\n",
    "os.environ['XLA_PYTHON_CLIENT_PREALLOCATE'] = \"false\" \n",
    "\n",
    "cfg = OmegaConf.load(\"./configs/rodent.yaml\")\n",
    "utils.init_params(cfg)"
   ]
  },
  {
   "cell_type": "code",
   "execution_count": 3,
   "metadata": {
    "tags": []
   },
   "outputs": [
    {
     "name": "stdout",
     "output_type": "stream",
     "text": [
      "rendering frame 0\n"
     ]
    },
    {
     "name": "stderr",
     "output_type": "stream",
     "text": [
      "/root/anaconda3/envs/stac-mjx-env/lib/python3.11/subprocess.py:1885: RuntimeWarning: os.fork() was called. os.fork() is incompatible with multithreaded code, and JAX is multithreaded, so this will likely lead to a deadlock.\n",
      "  self.pid = _fork_exec(\n"
     ]
    },
    {
     "name": "stdout",
     "output_type": "stream",
     "text": [
      "rendering frame 100\n",
      "rendering frame 200\n",
      "rendering frame 300\n"
     ]
    },
    {
     "ename": "KeyboardInterrupt",
     "evalue": "",
     "output_type": "error",
     "traceback": [
      "\u001b[0;31m---------------------------------------------------------------------------\u001b[0m",
      "\u001b[0;31mKeyboardInterrupt\u001b[0m                         Traceback (most recent call last)",
      "Cell \u001b[0;32mIn[3], line 10\u001b[0m\n\u001b[1;32m      7\u001b[0m save_path\u001b[38;5;241m=\u001b[39m\u001b[38;5;124m\"\u001b[39m\u001b[38;5;124mvideos/direct_render.mp4\u001b[39m\u001b[38;5;124m\"\u001b[39m\n\u001b[1;32m      9\u001b[0m \u001b[38;5;66;03m# Call mujoco_viz\u001b[39;00m\n\u001b[0;32m---> 10\u001b[0m frames \u001b[38;5;241m=\u001b[39m \u001b[43mmujoco_viz\u001b[49m\u001b[43m(\u001b[49m\u001b[43mdata_path\u001b[49m\u001b[43m,\u001b[49m\u001b[43m \u001b[49m\u001b[43mrat_xml\u001b[49m\u001b[43m,\u001b[49m\u001b[43m \u001b[49m\u001b[43mn_frames\u001b[49m\u001b[43m,\u001b[49m\u001b[43m \u001b[49m\u001b[43msave_path\u001b[49m\u001b[43m,\u001b[49m\u001b[43m \u001b[49m\u001b[43mstart_frame\u001b[49m\u001b[38;5;241;43m=\u001b[39;49m\u001b[38;5;241;43m0\u001b[39;49m\u001b[43m)\u001b[49m\n\u001b[1;32m     12\u001b[0m \u001b[38;5;66;03m# Show the video in the notebook (it is also saved to the save_path)\u001b[39;00m\n\u001b[1;32m     13\u001b[0m media\u001b[38;5;241m.\u001b[39mshow_video(frames, fps\u001b[38;5;241m=\u001b[39mutils\u001b[38;5;241m.\u001b[39mparams[\u001b[38;5;124m\"\u001b[39m\u001b[38;5;124mRENDER_FPS\u001b[39m\u001b[38;5;124m\"\u001b[39m])\n",
      "File \u001b[0;32m~/vast/jason/stac-mjx/./core/viz.py:373\u001b[0m, in \u001b[0;36mmujoco_viz\u001b[0;34m(data_path, model_xml, n_frames, save_path, start_frame)\u001b[0m\n\u001b[1;32m    368\u001b[0m mujoco\u001b[38;5;241m.\u001b[39mmj_forward(mj_model, mj_data)\n\u001b[1;32m    370\u001b[0m renderer\u001b[38;5;241m.\u001b[39mupdate_scene(\n\u001b[1;32m    371\u001b[0m     mj_data, camera\u001b[38;5;241m=\u001b[39m\u001b[38;5;124m\"\u001b[39m\u001b[38;5;124mclose_profile\u001b[39m\u001b[38;5;124m\"\u001b[39m, scene_option\u001b[38;5;241m=\u001b[39mscene_option\n\u001b[1;32m    372\u001b[0m )\n\u001b[0;32m--> 373\u001b[0m pixels \u001b[38;5;241m=\u001b[39m \u001b[43mrenderer\u001b[49m\u001b[38;5;241;43m.\u001b[39;49m\u001b[43mrender\u001b[49m\u001b[43m(\u001b[49m\u001b[43m)\u001b[49m\n\u001b[1;32m    374\u001b[0m video\u001b[38;5;241m.\u001b[39mappend_data(pixels)\n\u001b[1;32m    375\u001b[0m frames\u001b[38;5;241m.\u001b[39mappend(pixels)\n",
      "File \u001b[0;32m~/anaconda3/envs/stac-mjx-env/lib/python3.11/site-packages/mujoco/renderer.py:180\u001b[0m, in \u001b[0;36mRenderer.render\u001b[0;34m(self, out)\u001b[0m\n\u001b[1;32m    171\u001b[0m     \u001b[38;5;28;01mraise\u001b[39;00m \u001b[38;5;167;01mValueError\u001b[39;00m(\n\u001b[1;32m    172\u001b[0m         \u001b[38;5;124mf\u001b[39m\u001b[38;5;124m'\u001b[39m\u001b[38;5;124mExpected `out.shape == \u001b[39m\u001b[38;5;132;01m{\u001b[39;00mout_shape\u001b[38;5;132;01m}\u001b[39;00m\u001b[38;5;124m`. Got `out.shape=\u001b[39m\u001b[38;5;132;01m{\u001b[39;00mout\u001b[38;5;241m.\u001b[39mshape\u001b[38;5;132;01m}\u001b[39;00m\u001b[38;5;124m`\u001b[39m\u001b[38;5;124m'\u001b[39m\n\u001b[1;32m    173\u001b[0m         \u001b[38;5;124m'\u001b[39m\u001b[38;5;124m instead. When using depth rendering, the out array should be of\u001b[39m\u001b[38;5;124m'\u001b[39m\n\u001b[0;32m   (...)\u001b[0m\n\u001b[1;32m    176\u001b[0m         \u001b[38;5;124mf\u001b[39m\u001b[38;5;124m'\u001b[39m\u001b[38;5;124m `self._depth_rendering=\u001b[39m\u001b[38;5;132;01m{\u001b[39;00m\u001b[38;5;28mself\u001b[39m\u001b[38;5;241m.\u001b[39m_depth_rendering\u001b[38;5;132;01m}\u001b[39;00m\u001b[38;5;124m`.\u001b[39m\u001b[38;5;124m'\u001b[39m\n\u001b[1;32m    177\u001b[0m     )\n\u001b[1;32m    179\u001b[0m \u001b[38;5;66;03m# Render scene and read contents of RGB and depth buffers.\u001b[39;00m\n\u001b[0;32m--> 180\u001b[0m \u001b[43m_render\u001b[49m\u001b[38;5;241;43m.\u001b[39;49m\u001b[43mmjr_render\u001b[49m\u001b[43m(\u001b[49m\u001b[38;5;28;43mself\u001b[39;49m\u001b[38;5;241;43m.\u001b[39;49m\u001b[43m_rect\u001b[49m\u001b[43m,\u001b[49m\u001b[43m \u001b[49m\u001b[38;5;28;43mself\u001b[39;49m\u001b[38;5;241;43m.\u001b[39;49m\u001b[43m_scene\u001b[49m\u001b[43m,\u001b[49m\u001b[43m \u001b[49m\u001b[38;5;28;43mself\u001b[39;49m\u001b[38;5;241;43m.\u001b[39;49m\u001b[43m_mjr_context\u001b[49m\u001b[43m)\u001b[49m\n\u001b[1;32m    181\u001b[0m \u001b[38;5;28;01mif\u001b[39;00m \u001b[38;5;28mself\u001b[39m\u001b[38;5;241m.\u001b[39m_depth_rendering:\n\u001b[1;32m    182\u001b[0m   _render\u001b[38;5;241m.\u001b[39mmjr_readPixels(\u001b[38;5;28;01mNone\u001b[39;00m, out, \u001b[38;5;28mself\u001b[39m\u001b[38;5;241m.\u001b[39m_rect, \u001b[38;5;28mself\u001b[39m\u001b[38;5;241m.\u001b[39m_mjr_context)\n",
      "\u001b[0;31mKeyboardInterrupt\u001b[0m: "
     ]
    }
   ],
   "source": [
    "# set args and initialize params\n",
    "import numpy\n",
    "rat_xml = \"models/rodent.xml\"\n",
    "# \n",
    "data_path = \"./fit_sq.p\"\n",
    "n_frames=1000\n",
    "save_path=\"videos/direct_render.mp4\"\n",
    "\n",
    "# Call mujoco_viz\n",
    "frames = mujoco_viz(data_path, rat_xml, n_frames, save_path, start_frame=0)\n",
    "\n",
    "# Show the video in the notebook (it is also saved to the save_path)\n",
    "media.show_video(frames, fps=utils.params[\"RENDER_FPS\"])"
   ]
  },
  {
   "cell_type": "markdown",
   "metadata": {},
   "source": [
    "#### Render two rats together with `mujoco_pair_viz`!\n"
   ]
  },
  {
   "cell_type": "markdown",
   "metadata": {},
   "source": [
    "#### Render two rats together with `mujoco_pair_viz`!\n"
   ]
  },
  {
   "cell_type": "code",
   "execution_count": null,
   "metadata": {},
   "outputs": [],
   "source": []
  },
  {
   "cell_type": "code",
   "execution_count": null,
   "metadata": {},
   "outputs": [],
   "source": [
    "rat1_path = \"../sdannce_rat1_25500.p\"\n",
    "rat2_path = \"../sdannce_rat2_25500.p\"\n",
    "n_frames = 1000\n",
    "frames = mujoco_pair_viz(rat1_path,\n",
    "                         rat2_path, \n",
    "                         n_frames, \n",
    "                         save_path, \n",
    "                         start_frame1=0, \n",
    "                         start_frame2=0)"
   ]
  },
  {
   "cell_type": "markdown",
   "metadata": {},
   "source": [
    "#### Overlay the real life recording on top of the rendering:\n",
    "Note: this requires a calibration .mat file set up in the same way as ours. modify the logic in `viz.py` accordingly!"
   ]
  },
  {
   "cell_type": "code",
   "execution_count": null,
   "metadata": {},
   "outputs": [],
   "source": [
    "# set args and initialize params\n",
    "rat_xml = \"../models/rodent_overlay.xml\"\n",
    "data_path = \"../transform_12_21_1.p\"\n",
    "calibration_path = \"../temp_dannce.mat\"\n",
    "video_path = \"../Camera2/12_21_1.mp4\"\n",
    "n_frames=1000\n",
    "\n",
    "save_path=\"../videos/overlay_render.mp4\"\n",
    "\n",
    "# call viz and show video\n",
    "frames = overlay_viz(data_path,\n",
    "                        calibration_path,\n",
    "                        video_path,\n",
    "                        rat_xml,\n",
    "                        n_frames,\n",
    "                        save_path,\n",
    "                        camera = \"Camera2\")\n",
    "media.show_video(frames, fps=utils.params[\"RENDER_FPS\"])"
   ]
  },
  {
   "cell_type": "code",
   "execution_count": null,
   "metadata": {},
   "outputs": [],
   "source": []
  }
 ],
 "metadata": {
  "kernelspec": {
   "display_name": "base",
   "language": "python",
   "name": "python3"
  },
  "language_info": {
   "codemirror_mode": {
    "name": "ipython",
    "version": 3
   },
   "file_extension": ".py",
   "mimetype": "text/x-python",
   "name": "python",
   "nbconvert_exporter": "python",
   "pygments_lexer": "ipython3",
   "version": "3.11.9"
  }
 },
 "nbformat": 4,
 "nbformat_minor": 4
}
